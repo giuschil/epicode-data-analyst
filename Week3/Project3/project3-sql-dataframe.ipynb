{
 "cells": [
  {
   "cell_type": "code",
   "execution_count": 30,
   "id": "98ee6502",
   "metadata": {},
   "outputs": [],
   "source": [
    "import pandas as pd\n",
    "from sqlalchemy import create_engine\n",
    "import numpy\n",
    "import pymysql\n",
    "\n",
    "#variabili per connessione\n",
    "u = 'root'\n",
    "p = 'giuschil91'\n",
    "h = 'localhost'\n",
    "d = 'ecommerce'"
   ]
  },
  {
   "cell_type": "code",
   "execution_count": 31,
   "id": "0d2f0ec6",
   "metadata": {},
   "outputs": [],
   "source": [
    "#funzione per connessione a database tramite pandas \n",
    "\n",
    "def connect_pandas(u,p,h,d):\n",
    "    db_connection_str = 'mysql+pymysql://' + u +':'+p+'@'+h+'/'+d\n",
    "    return db_connection_str"
   ]
  },
  {
   "cell_type": "code",
   "execution_count": 32,
   "id": "4b8d3993",
   "metadata": {},
   "outputs": [],
   "source": [
    "db_connection = create_engine(connect_pandas(u,p,h,d))\n",
    "utente = pd.read_sql('prodotto',db_connection)"
   ]
  },
  {
   "cell_type": "code",
   "execution_count": 268,
   "id": "7bc90ab7",
   "metadata": {},
   "outputs": [
    {
     "name": "stdout",
     "output_type": "stream",
     "text": [
      "            nome   cognome\n",
      "0        Daniele  Pasquini\n",
      "1         Silvia      Naro\n",
      "2        Stefano   Di Vito\n",
      "3         Angeni    Uminga\n",
      "4  Giandomeni-co   Gangemi\n",
      "5        Fran-co   Ventura\n",
      "6     Alessandro     Biasi\n",
      "7      Federi-ca  Lanucara\n",
      "8        Edmondo      Pera\n",
      "9        Azzurra      Pera\n"
     ]
    }
   ],
   "source": [
    "#n1 sql Gli utenti iscritti alla newsletter che hanno fatto almeno 1 acquisto \n",
    "sql1 = 'select distinct u.nome,u.cognome from utente u, ordine o where u.uid = o.uid and newsletter = 1;'\n",
    "\n",
    "sql1 = pd.read_sql(sql1,db_connection)\n",
    "print(sql1)\n"
   ]
  },
  {
   "cell_type": "code",
   "execution_count": 270,
   "id": "c25ad44d",
   "metadata": {},
   "outputs": [
    {
     "name": "stdout",
     "output_type": "stream",
     "text": [
      "    uid           nome\n",
      "0     1        Daniele\n",
      "1     1        Daniele\n",
      "2     1        Daniele\n",
      "3     2         Silvia\n",
      "4     2         Silvia\n",
      "5     3        Stefano\n",
      "6     3        Stefano\n",
      "7     3        Stefano\n",
      "8     4         Angeni\n",
      "9     4         Angeni\n",
      "10    4         Angeni\n",
      "11    4         Angeni\n",
      "12    8  Giandomeni-co\n",
      "13    9        Fran-co\n",
      "14   12     Alessandro\n",
      "15   12     Alessandro\n",
      "16   14      Federi-ca\n",
      "17   16        Edmondo\n",
      "18   16        Edmondo\n",
      "19   17        Azzurra\n",
      "20   17        Azzurra\n"
     ]
    }
   ],
   "source": [
    "# sql ordini fatti da clienti registrati alla newsletter\n",
    "sql = \"select u.uid, u.nome from ordine o, utente u where u.uid = o.uid and newsletter = 1\"\n",
    "sql = pd.read_sql(sql,db_connection)\n",
    "print(sql)\n"
   ]
  },
  {
   "cell_type": "code",
   "execution_count": 49,
   "id": "7c77366b",
   "metadata": {},
   "outputs": [
    {
     "name": "stdout",
     "output_type": "stream",
     "text": [
      "   uid  nome\n",
      "0   20  John\n",
      "1   20  John\n",
      "2   20  John\n",
      "3   20  John\n"
     ]
    }
   ],
   "source": [
    "# sql ordini fatti da clienti non registrati alla newsletter\n",
    "sql = \"select u.uid, u.nome from ordine o, utente u where u.uid = o.uid and newsletter = 0\"\n",
    "sql = pd.read_sql(sql,db_connection)\n",
    "print(sql)"
   ]
  },
  {
   "cell_type": "code",
   "execution_count": 50,
   "id": "f3ec915b",
   "metadata": {},
   "outputs": [
    {
     "name": "stdout",
     "output_type": "stream",
     "text": [
      "   uid  nome\n",
      "0   20  John\n"
     ]
    }
   ],
   "source": [
    "# sql clienti che hanno fatto almeno un ordine non registrati alla newsletter\n",
    "sql = \"select distinct u.uid, u.nome from ordine o, utente u where u.uid = o.uid and newsletter = 0\"\n",
    "sql = pd.read_sql(sql,db_connection)\n",
    "print(sql)"
   ]
  },
  {
   "cell_type": "code",
   "execution_count": 55,
   "id": "346c92b6",
   "metadata": {},
   "outputs": [
    {
     "name": "stdout",
     "output_type": "stream",
     "text": [
      "                citta  NumeroOrdini\n",
      "0                Roma            24\n",
      "1  Gallico Superio-re             1\n",
      "2              Milano             4\n",
      "3              Assago             2\n",
      "4            Frascati             1\n",
      "5             Cosenza             2\n"
     ]
    }
   ],
   "source": [
    "#sql città con il maggior numero di ordini \n",
    "sql =\"select distinct i.citta, count(o.uid) as NumeroOrdini from ordine o, indirizzo i where i.uid = o.uid group by i.citta\"\n",
    "\n",
    "sql = pd.read_sql(sql,db_connection)\n",
    "print(sql)"
   ]
  },
  {
   "cell_type": "code",
   "execution_count": 59,
   "id": "7aa5cf3c",
   "metadata": {},
   "outputs": [
    {
     "name": "stdout",
     "output_type": "stream",
     "text": [
      "   quantita  prezzo\n",
      "0         6   97.76\n",
      "1         6   50.35\n",
      "2         6   39.90\n",
      "3         5   39.90\n",
      "4         6   29.36\n",
      "5         6   23.66\n",
      "6         5   20.81\n",
      "7         6   15.52\n",
      "8         5    0.19\n"
     ]
    }
   ],
   "source": [
    "#sql ordini con almeno 5 prodotti ordinati per valore decrescente del carrello\n",
    "sql = \"SELECT op.quantita, op.prezzo FROM prodotto AS p INNER JOIN orpr01 AS op ON (p.pid = op.pid) INNER JOIN ordine AS o ON (op.oid = o.oid) WHERE op.quantita >4 Group by op.quantita,op.prezzo order by op.prezzo desc\"\n",
    "sql = pd.read_sql(sql,db_connection)\n",
    "print(sql)"
   ]
  },
  {
   "cell_type": "code",
   "execution_count": 60,
   "id": "90d76c0d",
   "metadata": {},
   "outputs": [
    {
     "name": "stdout",
     "output_type": "stream",
     "text": [
      "    uid        nome  prezzo\n",
      "0    12  Alessandro  461.61\n",
      "1    14   Federi-ca  209.00\n",
      "2     1     Daniele  204.00\n",
      "3     3     Stefano  162.00\n",
      "4     3     Stefano  139.90\n",
      "..  ...         ...     ...\n",
      "57   12  Alessandro    4.75\n",
      "58    1     Daniele    4.20\n",
      "59    2      Silvia    3.90\n",
      "60    1     Daniele    0.19\n",
      "61    1     Daniele    0.19\n",
      "\n",
      "[62 rows x 3 columns]\n"
     ]
    }
   ],
   "source": [
    "#sql codice utente, nome e valore carrello dell' utente che ha fatto ordine piu' costoso\n",
    "sql = \"select u.uid,u.nome, op.prezzo from utente as u, ordine as o, orpr01 as op where u.uid = o.uid and o.oid = op.oid order by op.prezzo desc\"\n",
    "sql = pd.read_sql(sql,db_connection)\n",
    "print(sql)"
   ]
  },
  {
   "cell_type": "code",
   "execution_count": 61,
   "id": "f6662ac1",
   "metadata": {},
   "outputs": [
    {
     "name": "stdout",
     "output_type": "stream",
     "text": [
      "            nome  count(op.oid)\n",
      "0        Daniele             13\n",
      "1         Silvia              6\n",
      "2        Stefano              6\n",
      "3         Angeni              9\n",
      "4  Giandomeni-co              1\n",
      "5        Fran-co              1\n",
      "6     Alessandro              4\n",
      "7      Federi-ca              3\n",
      "8        Edmondo              4\n",
      "9        Azzurra              3\n"
     ]
    }
   ],
   "source": [
    "#sql utente che ha fatto il maggior numero di ordini\n",
    "sql = \"select u.nome, count(op.oid) from utente as u, ordine as o, orpr01 as op where u.uid = o.uid and o.oid = op.oid and u.newsletter = 1 group by u.nome\"\n",
    "sql = pd.read_sql(sql,db_connection)\n",
    "print(sql)"
   ]
  },
  {
   "cell_type": "code",
   "execution_count": 81,
   "id": "48a103f2",
   "metadata": {},
   "outputs": [
    {
     "name": "stdout",
     "output_type": "stream",
     "text": [
      "   oid                time  prezzo\n",
      "0    1 2011-11-01 11:00:00    32.5\n",
      "1    1 2011-11-01 11:00:00    38.9\n",
      "2    1 2011-11-01 11:00:00   204.0\n",
      "3    1 2011-11-01 11:00:00    29.9\n",
      "4   21 2011-12-05 11:00:00    13.9\n",
      "5   21 2011-12-05 11:00:00     7.9\n",
      "6   21 2011-12-05 11:00:00    24.0\n",
      "7   21 2011-12-05 11:00:00    13.0\n",
      "8   25 2011-12-05 16:00:00    32.5\n",
      "9   25 2011-12-05 16:00:00    29.9\n"
     ]
    }
   ],
   "source": [
    "#sql codice utente, nome, codice ordine e data dell' ordine minore di < 5 di daniele\n",
    "sql = \"select op.oid,o.time,op.prezzo from utente as u, ordine as o, orpr01 as op where u.uid = o.uid and o.oid = op.oid and u.nome = 'Daniele' and op.prezzo >'5.0'\"\n",
    "sql = pd.read_sql(sql,db_connection)\n",
    "print(sql)"
   ]
  },
  {
   "cell_type": "code",
   "execution_count": null,
   "id": "5837d957",
   "metadata": {},
   "outputs": [],
   "source": [
    "#sql codice utente, nome, codice ordine e data dell' ordine minore di < 5 di daniele\n",
    "sql = \"select op.oid,o.time,op.prezzo from utente as u, ordine as o, orpr01 as op where u.uid = o.uid and o.oid = op.oid and u.nome = 'Daniele' and op.prezzo >'5.0'\"\n",
    "sql = pd.read_sql(sql,db_connection)\n",
    "print(sql)\n"
   ]
  }
 ],
 "metadata": {
  "kernelspec": {
   "display_name": "Python 3 (ipykernel)",
   "language": "python",
   "name": "python3"
  },
  "language_info": {
   "codemirror_mode": {
    "name": "ipython",
    "version": 3
   },
   "file_extension": ".py",
   "mimetype": "text/x-python",
   "name": "python",
   "nbconvert_exporter": "python",
   "pygments_lexer": "ipython3",
   "version": "3.9.12"
  }
 },
 "nbformat": 4,
 "nbformat_minor": 5
}
