{
 "cells": [
  {
   "cell_type": "code",
   "execution_count": 137,
   "id": "398a40f4",
   "metadata": {},
   "outputs": [],
   "source": [
    "from sqlalchemy import create_engine\n",
    "import mysql.connector\n",
    "import pymysql\n",
    "\n",
    "#variabili per connessione\n",
    "u = 'root'\n",
    "p = 'giuschil91'\n",
    "h = 'localhost'\n",
    "d = 'ecommerce'"
   ]
  },
  {
   "cell_type": "code",
   "execution_count": 184,
   "id": "de34ee53",
   "metadata": {},
   "outputs": [
    {
     "data": {
      "text/plain": [
       "'\\nDROP PROCEDURE IF EXISTS insert_categoria;\\nDELIMITER //\\nCREATE PROCEDURE insert_categoria()\\nBEGIN\\n\\tDECLARE index_start INT;\\n\\tDECLARE index_end INT;\\n\\tSET index_start = 1;\\n\\tSET index_end = 200;\\n\\tWHILE index_start < index_end DO\\n\\t\\tSET index_start = index_start + 1;\\n\\t\\tINSERT INTO `categoria` (`nome`) VALUES (CONCAT(\"categoria_\", index_start));\\n\\tEND WHILE;\\nEND; //\\nDELIMITER ;\\n\\n\\n\\ncall insert_categoria()\\n'"
      ]
     },
     "execution_count": 184,
     "metadata": {},
     "output_type": "execute_result"
    }
   ],
   "source": [
    "\"\"\"DELIMITER //\n",
    "CREATE PROCEDURE inserter_marca()\n",
    "BEGIN\n",
    "\tDECLARE app_img INT;\n",
    "\tDECLARE param_img INT;\n",
    "\tSET app_img = 0;\n",
    "\tSET param_img = 10;\n",
    "\tWHILE app_img < param_img DO\n",
    "\t\tSET app_img = app_img + 1;\n",
    "\t\tINSERT INTO `marca`(`mid`, `nome`,`immagine`,`url`)\n",
    "\t\tVALUES (CONCAT(\"10\", app_img), CONCAT(\"marca_\", app_img),CONCAT(\"titolo_immagine_\", app_img), CONCAT(\"home/DB_ecommerce/img_\", app_img) );\n",
    "\tEND WHILE;\n",
    "END; //\n",
    "DELIMITER ;\n",
    "\n",
    "call inserter_marca();\n",
    "\"\"\"\n",
    "\"\"\"\n",
    "DROP PROCEDURE IF EXISTS insert_categoria;\n",
    "DELIMITER //\n",
    "CREATE PROCEDURE insert_categoria()\n",
    "BEGIN\n",
    "\tDECLARE index_start INT;\n",
    "\tDECLARE index_end INT;\n",
    "\tSET index_start = 1;\n",
    "\tSET index_end = 200;\n",
    "\tWHILE index_start < index_end DO\n",
    "\t\tSET index_start = index_start + 1;\n",
    "\t\tINSERT INTO `categoria` (`nome`) VALUES (CONCAT(\"categoria_\", index_start));\n",
    "\tEND WHILE;\n",
    "END; //\n",
    "DELIMITER ;\n",
    "\n",
    "\n",
    "\n",
    "call insert_categoria()\n",
    "\"\"\""
   ]
  },
  {
   "cell_type": "code",
   "execution_count": null,
   "id": "e7190ab4",
   "metadata": {},
   "outputs": [],
   "source": []
  },
  {
   "cell_type": "code",
   "execution_count": 138,
   "id": "1b0b91bd",
   "metadata": {},
   "outputs": [],
   "source": [
    "#funzione connection to mysql with python\n",
    "\n",
    "def connection(user,password,host,db):\n",
    "    '''\n",
    "    user = name of user\n",
    "    password = user pass\n",
    "    host = host name\n",
    "    db = database name\n",
    "    '''\n",
    "    try: \n",
    "        #try connection\n",
    "        conn = mysql.connector.connect(user = u, password =p,host=h,database=d)\n",
    "        #if connection is True print connection done\n",
    "        print(\"connection done\")\n",
    "    except:\n",
    "        print(\"connection error\")\n",
    "    return conn\n"
   ]
  },
  {
   "cell_type": "code",
   "execution_count": 180,
   "id": "55e1b62f",
   "metadata": {},
   "outputs": [],
   "source": [
    "\n",
    "def return_cursor(u,p,h,d):\n",
    "    \"\"\"\n",
    "    user,password,host,database and return cursor\n",
    "    \"\"\"\n",
    "    conn = mysql.connector.connect(user = u, password =p,host=h,database=d)\n",
    "    cursor = conn.cursor()\n",
    "    return cursor\n",
    "\n",
    "def select_frm(name_column1,name_column2,table_name):\n",
    "    \"\"\"\n",
    "    create a basic query with name_column 1 and 2 and table return query string\n",
    "    \"\"\"\n",
    "    name_column = str(name_column1)\n",
    "    name_column2 = str(name_column2)\n",
    "    query = 'select ' + name_column1 +' , '+name_column2 + ' from ' + table_name + ';'\n",
    "    return query\n",
    "\n",
    "#metodo join\n",
    "def join(table,column,table2,column2):\n",
    "    \"\"\"\n",
    "    create a part of query join take table and column return join  query string\n",
    "    \"\"\"\n",
    "    result =\"%s.%s = %s.%s\" % (table,column,table2,column2)\n",
    "    return result\n",
    "\n",
    "#metodo execute query\n",
    "def execute_query(cursor, query):\n",
    "    \"\"\"\n",
    "    cursor : cursor\n",
    "    query : sql query\n",
    "    return : execute cursor ->query\n",
    "    \"\"\"\n",
    "    return cursor.execute(query)\n",
    "\n",
    "def print_result(cursor):\n",
    "    \"\"\"\n",
    "    cursor: cursor\n",
    "    print -> fetchall with all data result of the query\n",
    "    \"\"\"\n",
    "    for i in cursor.fetchall():\n",
    "        print(i)\n",
    "\n",
    "def insert_product(id,product_name,product_description):\n",
    "    id = str(id)\n",
    "    product_name = str(product_name)\n",
    "    product_description = str(product_description)\n",
    "    val = (id,product_name,product_description)\n",
    "    sql = \"INSERT INTO prodotti_amazon (id,Nome_prodotto,descrizione_prodotto) VALUES (%s, %s, %s)\"\n",
    "    cursor.execute(sql, val)\n",
    "\n",
    "def delete_product(table,prodotto):\n",
    "    #table = str(table)\n",
    "    #nome_prodotto = str(nome_prodotto)\n",
    "    #sql = \"DELETE FROM %s WHERE Nome_prodotto = %s\"\n",
    "    sql = \"Delete from \" + str(table) + \" where \" + \"Nome_prodotto = \" + str(prodotto) + \";\"\n",
    "    print(sql)\n",
    "    cursor.execute(sql)\n"
   ]
  },
  {
   "cell_type": "code",
   "execution_count": 181,
   "id": "6f29e878",
   "metadata": {},
   "outputs": [],
   "source": [
    "#Connect to database\n",
    "conn = mysql.connector.connect(user = u, password =p,host=h,database=d)\n",
    "\n",
    "#create cursor\n",
    "cursor = conn.cursor()\n",
    "#execute query\n",
    "cursor.execute(sql)\n",
    "#result of the query \n",
    "result = cursor.fetchall()"
   ]
  },
  {
   "cell_type": "code",
   "execution_count": 156,
   "id": "c17ace3a",
   "metadata": {},
   "outputs": [
    {
     "name": "stdout",
     "output_type": "stream",
     "text": [
      "('Daniele', 'Pasquini')\n",
      "('Silvia', 'Naro')\n",
      "('Stefano', 'Di Vito')\n",
      "('Angeni', 'Uminga')\n",
      "('Giandomeni-co', 'Gangemi')\n",
      "('Fran-co', 'Ventura')\n",
      "('Alessandro', 'Biasi')\n",
      "('Federi-ca', 'Lanucara')\n",
      "('Edmondo', 'Pera')\n",
      "('Azzurra', 'Pera')\n"
     ]
    }
   ],
   "source": [
    "########################################################################################\n",
    "# QUERY NUMERO 1 Gli utenti iscritti alla newsletter che hanno fatto almeno 1 acquisto #\n",
    "########################################################################################\n",
    "\n",
    "sql = 'select distinct u.nome,u.cognome from utente u, ordine o where u.uid = o.uid and newsletter = 1;'\n",
    "\n",
    "cursor.execute(sql)\n",
    "result = cursor.fetchall()\n",
    "print_query(result)"
   ]
  },
  {
   "cell_type": "code",
   "execution_count": 157,
   "id": "f5f8f784",
   "metadata": {},
   "outputs": [
    {
     "name": "stdout",
     "output_type": "stream",
     "text": [
      "(1,)\n",
      "(21,)\n",
      "(25,)\n",
      "(5,)\n",
      "(24,)\n",
      "(6,)\n",
      "(7,)\n",
      "(8,)\n",
      "(11,)\n",
      "(15,)\n",
      "(16,)\n",
      "(22,)\n",
      "(9,)\n",
      "(18,)\n",
      "(4,)\n",
      "(10,)\n",
      "(20,)\n",
      "(14,)\n",
      "(17,)\n",
      "(12,)\n",
      "(13,)\n"
     ]
    }
   ],
   "source": [
    "#########################################################################\n",
    "# QUERY NUMERO 2 sql ordini fatti da clienti registrati alla newsletter #\n",
    "#########################################################################\n",
    "\n",
    "sql = \"select o.oid from ordine o, utente u where u.uid = o.uid and newsletter = 1\"\n",
    "cursor.execute(sql)\n",
    "result = cursor.fetchall()\n",
    "print_query(result)"
   ]
  },
  {
   "cell_type": "code",
   "execution_count": 158,
   "id": "d07cd173",
   "metadata": {},
   "outputs": [
    {
     "name": "stdout",
     "output_type": "stream",
     "text": [
      "(20, 'John')\n",
      "(20, 'John')\n",
      "(20, 'John')\n",
      "(20, 'John')\n"
     ]
    }
   ],
   "source": [
    "#########################################################################\n",
    "# QUERY NUMERO 3 ordini fatti da clienti non registrati alla newsletter #\n",
    "#########################################################################\n",
    "\n",
    "sql = \"select u.uid, u.nome from ordine o, utente u where u.uid = o.uid and newsletter = 0\"\n",
    "\n",
    "cursor.execute(sql)\n",
    "result = cursor.fetchall()\n",
    "print_query(result)\n"
   ]
  },
  {
   "cell_type": "code",
   "execution_count": 159,
   "id": "47119ca7",
   "metadata": {},
   "outputs": [
    {
     "name": "stdout",
     "output_type": "stream",
     "text": [
      "('Roma', 24)\n",
      "('Gallico Superio-re', 1)\n",
      "('Milano', 4)\n",
      "('Assago', 2)\n",
      "('Frascati', 1)\n",
      "('Cosenza', 2)\n"
     ]
    }
   ],
   "source": [
    "##############################################################\n",
    "# QUERY NUMERO 4 sql città con il maggior numero di ordini   #\n",
    "##############################################################\n",
    "\n",
    "sql =\"select distinct i.citta, count(o.uid) as NumeroOrdini from ordine o, indirizzo i where i.uid = o.uid group by i.citta\"\n",
    "\n",
    "cursor.execute(sql)\n",
    "result = cursor.fetchall()\n",
    "print_query(result)"
   ]
  },
  {
   "cell_type": "code",
   "execution_count": 160,
   "id": "3b587f6b",
   "metadata": {},
   "outputs": [
    {
     "name": "stdout",
     "output_type": "stream",
     "text": [
      "(6, 97.76)\n",
      "(6, 50.35)\n",
      "(6, 39.9)\n",
      "(5, 39.9)\n",
      "(6, 29.36)\n",
      "(6, 23.66)\n",
      "(5, 20.81)\n",
      "(6, 15.52)\n",
      "(5, 0.19)\n"
     ]
    }
   ],
   "source": [
    "#########################################################################################################\n",
    "#QUERY NUMERO 5 sql Gli ordini con almeno 4 prodotti ordinati per valore del carrello decrescente       #\n",
    "#########################################################################################################\n",
    "\n",
    "\n",
    "sql = \"SELECT op.quantita, op.prezzo FROM prodotto AS p INNER JOIN orpr01 AS op ON (p.pid = op.pid) INNER JOIN ordine AS o ON (op.oid = o.oid) WHERE op.quantita >4 Group by op.quantita,op.prezzo order by op.prezzo desc\"\n",
    "cursor.execute(sql)\n",
    "result = cursor.fetchall()\n",
    "print_query(result)"
   ]
  },
  {
   "cell_type": "code",
   "execution_count": 161,
   "id": "bd6c3b73",
   "metadata": {},
   "outputs": [
    {
     "name": "stdout",
     "output_type": "stream",
     "text": [
      "(12, 'Alessandro', 461.61)\n",
      "(14, 'Federi-ca', 209.0)\n",
      "(1, 'Daniele', 204.0)\n",
      "(3, 'Stefano', 162.0)\n",
      "(3, 'Stefano', 139.9)\n",
      "(4, 'Angeni', 139.0)\n",
      "(20, 'John', 97.76)\n",
      "(4, 'Angeni', 87.0)\n",
      "(4, 'Angeni', 78.0)\n",
      "(20, 'John', 71.25)\n",
      "(3, 'Stefano', 59.0)\n",
      "(4, 'Angeni', 55.0)\n",
      "(4, 'Angeni', 51.0)\n",
      "(20, 'John', 50.35)\n",
      "(14, 'Federi-ca', 49.0)\n",
      "(4, 'Angeni', 49.0)\n",
      "(17, 'Azzurra', 45.0)\n",
      "(3, 'Stefano', 44.0)\n",
      "(14, 'Federi-ca', 43.0)\n",
      "(20, 'John', 42.75)\n",
      "(2, 'Silvia', 42.0)\n",
      "(20, 'John', 39.9)\n",
      "(12, 'Alessandro', 39.9)\n",
      "(4, 'Angeni', 39.9)\n",
      "(8, 'Giandomeni-co', 39.0)\n",
      "(1, 'Daniele', 38.9)\n",
      "(20, 'John', 37.05)\n",
      "(12, 'Alessandro', 36.96)\n",
      "(9, 'Fran-co', 36.0)\n",
      "(4, 'Angeni', 35.0)\n",
      "(16, 'Edmondo', 32.9)\n",
      "(1, 'Daniele', 32.5)\n",
      "(2, 'Silvia', 32.5)\n",
      "(1, 'Daniele', 32.5)\n",
      "(1, 'Daniele', 29.9)\n",
      "(1, 'Daniele', 29.9)\n",
      "(20, 'John', 29.36)\n",
      "(1, 'Daniele', 24.0)\n",
      "(2, 'Silvia', 23.9)\n",
      "(20, 'John', 23.66)\n",
      "(20, 'John', 23.66)\n",
      "(20, 'John', 23.66)\n",
      "(16, 'Edmondo', 23.0)\n",
      "(2, 'Silvia', 22.0)\n",
      "(3, 'Stefano', 21.9)\n",
      "(20, 'John', 20.81)\n",
      "(16, 'Edmondo', 18.9)\n",
      "(2, 'Silvia', 18.0)\n",
      "(20, 'John', 15.52)\n",
      "(3, 'Stefano', 15.0)\n",
      "(1, 'Daniele', 13.9)\n",
      "(16, 'Edmondo', 13.5)\n",
      "(17, 'Azzurra', 13.0)\n",
      "(1, 'Daniele', 13.0)\n",
      "(4, 'Angeni', 8.9)\n",
      "(1, 'Daniele', 7.9)\n",
      "(17, 'Azzurra', 7.5)\n",
      "(12, 'Alessandro', 4.75)\n",
      "(1, 'Daniele', 4.2)\n",
      "(2, 'Silvia', 3.9)\n",
      "(1, 'Daniele', 0.19)\n",
      "(1, 'Daniele', 0.19)\n"
     ]
    }
   ],
   "source": [
    "#########################################################################################################\n",
    "#QUERY NUMERO 6 sql codice utente, nome e valore carrello dell' utente che ha fatto ordine piu' costoso #\n",
    "#########################################################################################################\n",
    "\n",
    "sql = \"select u.uid,u.nome, op.prezzo from utente as u, ordine as o, orpr01 as op where u.uid = o.uid and o.oid = op.oid order by op.prezzo desc\"\n",
    "cursor.execute(sql)\n",
    "result = cursor.fetchall()\n",
    "print_query(result)"
   ]
  },
  {
   "cell_type": "code",
   "execution_count": 162,
   "id": "5eeb201a",
   "metadata": {},
   "outputs": [
    {
     "name": "stdout",
     "output_type": "stream",
     "text": [
      "('Daniele', 13)\n",
      "('Silvia', 6)\n",
      "('Stefano', 6)\n",
      "('Angeni', 9)\n",
      "('Giandomeni-co', 1)\n",
      "('Fran-co', 1)\n",
      "('Alessandro', 4)\n",
      "('Federi-ca', 3)\n",
      "('Edmondo', 4)\n",
      "('Azzurra', 3)\n"
     ]
    }
   ],
   "source": [
    "#########################################################################################################\n",
    "#QUERY NUMERO 7 sql utente che ha fatto il maggior numero di ordini\n",
    "#########################################################################################################\n",
    "\n",
    "sql = \"select u.nome, count(op.oid) from utente as u, ordine as o, orpr01 as op where u.uid = o.uid and o.oid = op.oid and u.newsletter = 1 group by u.nome\"\n",
    "cursor.execute(sql)\n",
    "result = cursor.fetchall()\n",
    "print_query(result)"
   ]
  },
  {
   "cell_type": "code",
   "execution_count": 172,
   "id": "96e65cd9",
   "metadata": {},
   "outputs": [
    {
     "name": "stdout",
     "output_type": "stream",
     "text": [
      "('Consegna con corriere GLS', 14)\n",
      "('Spedizione in posta', 11)\n"
     ]
    }
   ],
   "source": [
    "#########################################################################################################\n",
    "#QUERY NUMERO 8 metodo di spedizione preferita\n",
    "#########################################################################################################\n",
    "\n",
    "sql = \"select s.nome as modalita_spedizione, COUNT(s.nome) as quantita from spedizione s, pasp01 p, ordine o where s.spid = p.spid and p.paspid = o.paspid group by modalita_spedizione order by quantita desc;\"\n",
    "cursor.execute(sql)\n",
    "result = cursor.fetchall()\n",
    "print_query(result)"
   ]
  },
  {
   "cell_type": "code",
   "execution_count": 177,
   "id": "3713bca6",
   "metadata": {},
   "outputs": [
    {
     "name": "stdout",
     "output_type": "stream",
     "text": [
      "('Contrassegno', 15)\n",
      "('Pagamento con Carta di Credito', 10)\n"
     ]
    }
   ],
   "source": [
    "#########################################################################################################\n",
    "#QUERY NUMERO 9 metodo di pagamento preferito \n",
    "#########################################################################################################\n",
    "sql = \"select p.nome, COUNT(p.nome) from pagamento p, pasp01 pas, ordine o where p.paid = pas.paid and  pas.paspid = o.paspid group by p.nome;\"\n",
    "\n",
    "\n",
    "cursor.execute(sql)\n",
    "result = cursor.fetchall()\n",
    "print_query(result)"
   ]
  },
  {
   "cell_type": "code",
   "execution_count": 168,
   "id": "93381d0d",
   "metadata": {},
   "outputs": [
    {
     "name": "stdout",
     "output_type": "stream",
     "text": [
      "('rivenditori', 16)\n"
     ]
    }
   ],
   "source": [
    "#########################################################################################################\n",
    "#QUERY NUMERO 10 numero ordini da rivenditori e da non rivenditori\n",
    "#########################################################################################################\n",
    "\n",
    "sql = \"select s.nome as modalita_spedizione, COUNT(s.nome) as quantita from spedizione s, pasp01 p, ordine o where s.spid = p.spid and p.paspid = o.paspid group by modalita_spedizione order by quantita desc;\"\n",
    "cursor.execute(sql)\n",
    "result = cursor.fetchall()\n",
    "print_query(result)"
   ]
  },
  {
   "cell_type": "code",
   "execution_count": 182,
   "id": "73bbed80",
   "metadata": {},
   "outputs": [],
   "source": [
    "#chiusura connessione\n",
    "conn.close()"
   ]
  },
  {
   "cell_type": "code",
   "execution_count": null,
   "id": "307cbfa0",
   "metadata": {},
   "outputs": [],
   "source": []
  }
 ],
 "metadata": {
  "kernelspec": {
   "display_name": "Python 3 (ipykernel)",
   "language": "python",
   "name": "python3"
  },
  "language_info": {
   "codemirror_mode": {
    "name": "ipython",
    "version": 3
   },
   "file_extension": ".py",
   "mimetype": "text/x-python",
   "name": "python",
   "nbconvert_exporter": "python",
   "pygments_lexer": "ipython3",
   "version": "3.9.12"
  }
 },
 "nbformat": 4,
 "nbformat_minor": 5
}
