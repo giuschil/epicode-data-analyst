{
 "cells": [
  {
   "cell_type": "code",
   "execution_count": 13,
   "id": "98ee6502",
   "metadata": {},
   "outputs": [],
   "source": [
    "import pandas as pd\n",
    "from sqlalchemy import create_engine\n",
    "import numpy\n",
    "import pymysql\n",
    "\n",
    "#variabili per connessione\n",
    "u = 'root'\n",
    "p = 'giuschil91'\n",
    "h = 'localhost'\n",
    "d = 'ecommerce'"
   ]
  },
  {
   "cell_type": "code",
   "execution_count": 14,
   "id": "0d2f0ec6",
   "metadata": {},
   "outputs": [],
   "source": [
    "#funzione per connessione a database tramite pandas \n",
    "\n",
    "def connect_pandas(u,p,h,d):\n",
    "    db_connection_str = 'mysql+pymysql://' + u +':'+p+'@'+h+'/'+d\n",
    "    return db_connection_str"
   ]
  },
  {
   "cell_type": "code",
   "execution_count": 15,
   "id": "4b8d3993",
   "metadata": {},
   "outputs": [],
   "source": [
    "db_connection = create_engine(connect_pandas(u,p,h,d))\n",
    "utente = pd.read_sql('utente',db_connection)"
   ]
  },
  {
   "cell_type": "code",
   "execution_count": 16,
   "id": "f6b73dc0",
   "metadata": {},
   "outputs": [
    {
     "name": "stdout",
     "output_type": "stream",
     "text": [
      "             nome   cognome\n",
      "0         Daniele  Pasquini\n",
      "1         Daniele  Pasquini\n",
      "2         Daniele  Pasquini\n",
      "3          Silvia      Naro\n",
      "4          Silvia      Naro\n",
      "5         Stefano   Di Vito\n",
      "6         Stefano   Di Vito\n",
      "7         Stefano   Di Vito\n",
      "8          Angeni    Uminga\n",
      "9          Angeni    Uminga\n",
      "10         Angeni    Uminga\n",
      "11         Angeni    Uminga\n",
      "12  Giandomeni-co   Gangemi\n",
      "13        Fran-co   Ventura\n",
      "14     Alessandro     Biasi\n",
      "15     Alessandro     Biasi\n",
      "16      Federi-ca  Lanucara\n",
      "17        Edmondo      Pera\n",
      "18        Edmondo      Pera\n",
      "19        Azzurra      Pera\n",
      "20        Azzurra      Pera\n"
     ]
    }
   ],
   "source": [
    "########################################################################################\n",
    "# QUERY NUMERO 1 Gli utenti iscritti alla newsletter che hanno fatto almeno 1 acquisto #\n",
    "########################################################################################\n",
    "\n",
    "sql1 = 'select distinct u.nome,u.cognome from utente u, ordine o where u.uid = o.uid and newsletter = 1;'\n",
    "\n",
    "sql1 = pd.read_sql(sql1,db_connection)\n",
    "#print(sql1)\n",
    "#utente = pd.read_sql('utente',db_connection)\n",
    "#ordine = pd.read_sql('ordine',db_connection)\n",
    "\n",
    "left = pd.DataFrame(pd.read_sql('utente',db_connection))\n",
    "right = pd.DataFrame(pd.read_sql('ordine',db_connection))\n",
    "df = pd.merge(left,right, on = 'uid')\n",
    "\n",
    "#df[df['newsletter'].isin([1])]\n",
    "#print(df)\n",
    "\n",
    "#prendi i valori se newsletter è uguale a 1 \n",
    "df = df.loc[df['newsletter'] == 1]\n",
    "\n",
    "df = df[['nome','cognome']]\n",
    "print(df)"
   ]
  },
  {
   "cell_type": "code",
   "execution_count": 17,
   "id": "bcf7d5eb",
   "metadata": {},
   "outputs": [
    {
     "name": "stdout",
     "output_type": "stream",
     "text": [
      "    oid\n",
      "0     1\n",
      "1    21\n",
      "2    25\n",
      "3     5\n",
      "4    24\n",
      "5     6\n",
      "6     7\n",
      "7     8\n",
      "8    11\n",
      "9    15\n",
      "10   16\n",
      "11   22\n",
      "12    9\n",
      "13   18\n",
      "14    4\n",
      "15   10\n",
      "16   20\n",
      "17   14\n",
      "18   17\n",
      "19   12\n",
      "20   13\n",
      "21    2\n",
      "22    3\n",
      "23   19\n",
      "24   23\n"
     ]
    }
   ],
   "source": [
    "#########################################################################\n",
    "# QUERY NUMERO 2 sql ordini fatti da clienti registrati alla newsletter #\n",
    "#########################################################################\n",
    "\n",
    "sql = \"select o.oid from ordine o, utente u where u.uid = o.uid and newsletter = 1\"\n",
    "sql = pd.read_sql(sql,db_connection)\n",
    "#print(sql)\n",
    "\n",
    "\n",
    "left = pd.DataFrame(pd.read_sql('utente',db_connection))\n",
    "right = pd.DataFrame(pd.read_sql('ordine',db_connection))\n",
    "df = pd.merge(left,right, on = 'uid')\n",
    "\n",
    "#df[df['newsletter'].isin([1])]\n",
    "#print(df)\n",
    "\n",
    "#prendi i valori se newsletter è uguale a 1 \n",
    "df.loc[df['newsletter'] == 1]\n",
    "\n",
    "df = df[['oid']]\n",
    "print(df)"
   ]
  },
  {
   "cell_type": "code",
   "execution_count": 18,
   "id": "0f137877",
   "metadata": {},
   "outputs": [
    {
     "name": "stdout",
     "output_type": "stream",
     "text": [
      "    nome cognome\n",
      "21  John   James\n",
      "22  John   James\n",
      "23  John   James\n",
      "24  John   James\n"
     ]
    }
   ],
   "source": [
    "#########################################################################\n",
    "# QUERY NUMERO 3 ordini fatti da clienti non registrati alla newsletter #\n",
    "#########################################################################\n",
    "\n",
    "sql = \"select u.uid, u.nome from ordine o, utente u where u.uid = o.uid and newsletter = 0\"\n",
    "sql = pd.read_sql(sql,db_connection)\n",
    "#print(sql)\n",
    "\n",
    "left = pd.DataFrame(pd.read_sql('utente',db_connection))\n",
    "right = pd.DataFrame(pd.read_sql('ordine',db_connection))\n",
    "df = pd.merge(left,right, on = 'uid')\n",
    "\n",
    "#df[df['newsletter'].isin([1])]\n",
    "#print(df)\n",
    "\n",
    "#prendi i valori se newsletter è uguale a 1 \n",
    "\n",
    "df = df.loc[df['newsletter'] == 0]\n",
    "df = df[['nome','cognome']]\n",
    "print(df)\n"
   ]
  },
  {
   "cell_type": "code",
   "execution_count": 19,
   "id": "a44df58d",
   "metadata": {},
   "outputs": [
    {
     "name": "stdout",
     "output_type": "stream",
     "text": [
      "                    inid_x\n",
      "citta                     \n",
      "Roma                    24\n",
      "Milano                   4\n",
      "Assago                   2\n",
      "Cosenza                  2\n",
      "Frascati                 1\n",
      "Gallico Superio-re       1\n"
     ]
    }
   ],
   "source": [
    "##############################################################\n",
    "# QUERY NUMERO 4 sql città con il maggior numero di ordini   #\n",
    "##############################################################\n",
    "\n",
    "sql =\"select distinct i.citta, count(o.uid) as NumeroOrdini from ordine o, indirizzo i where i.uid = o.uid group by i.citta\"\n",
    "\n",
    "sql = pd.read_sql(sql,db_connection)\n",
    "#print(sql)\n",
    "\n",
    "left = pd.DataFrame(pd.read_sql('indirizzo',db_connection))\n",
    "right = pd.DataFrame(pd.read_sql('ordine',db_connection))\n",
    "df = pd.merge(left,right, on = 'uid')\n",
    "df= df[['citta','inid_x']]\n",
    "df_grouped = df.groupby([('citta')]).count()\n",
    "df_grouped_sorded = df_grouped.sort_values(by=['inid_x'], ascending=False)\n",
    "\n",
    "print(df_grouped_sorded)\n"
   ]
  },
  {
   "cell_type": "code",
   "execution_count": 20,
   "id": "1cf9829c",
   "metadata": {},
   "outputs": [
    {
     "name": "stdout",
     "output_type": "stream",
     "text": [
      "    prezzo  quantita  oid\n",
      "11   97.76         6    3\n",
      "12   50.35         6    3\n",
      "13   39.90         6    3\n",
      "14   39.90         5    4\n",
      "9    29.36         6    3\n",
      "7    23.66         6    2\n",
      "8    23.66         6    3\n",
      "6    20.81         5    2\n",
      "10   15.52         6    3\n",
      "1     0.19         5    1\n",
      "60    0.19         5   25\n"
     ]
    }
   ],
   "source": [
    "#########################################################################################################\n",
    "#QUERY NUMERO 5 sql Gli ordini con almeno 4 prodotti ordinati per valore del carrello decrescente       #\n",
    "#########################################################################################################\n",
    "\n",
    "\n",
    "sql = \"SELECT op.quantita, op.prezzo FROM prodotto AS p INNER JOIN orpr01 AS op ON (p.pid = op.pid) INNER JOIN ordine AS o ON (op.oid = o.oid) WHERE op.quantita >4 Group by op.quantita,op.prezzo order by op.prezzo desc\"\n",
    "sql = pd.read_sql(sql,db_connection)\n",
    "#print(sql)\n",
    "\n",
    "left = pd.DataFrame(pd.read_sql('ordine',db_connection))\n",
    "right = pd.DataFrame(pd.read_sql('orpr01',db_connection))\n",
    "df = pd.merge(left,right, on = 'oid')\n",
    "\n",
    "#df[df['newsletter'].isin([1])]\n",
    "#print(df)\n",
    "df = df.loc[df['quantita'] > 4]\n",
    "df= df[['prezzo','quantita','oid']]\n",
    "df_sorted = df.sort_values(by=['prezzo'], ascending=False)\n",
    "\n",
    "print(df_sorted)"
   ]
  },
  {
   "cell_type": "code",
   "execution_count": 21,
   "id": "fe0cc586",
   "metadata": {},
   "outputs": [
    {
     "name": "stdout",
     "output_type": "stream",
     "text": [
      "    prezzo        nome\n",
      "38  461.61  Alessandro\n",
      "42  209.00   Federi-ca\n",
      "3   204.00     Daniele\n",
      "23  162.00     Stefano\n",
      "24  139.90     Stefano\n",
      "..     ...         ...\n",
      "37    4.75  Alessandro\n",
      "7     4.20     Daniele\n",
      "14    3.90      Silvia\n",
      "11    0.19     Daniele\n",
      "1     0.19     Daniele\n",
      "\n",
      "[62 rows x 2 columns]\n"
     ]
    }
   ],
   "source": [
    "#########################################################################################################\n",
    "#QUERY NUMERO 6 sql codice utente, nome e valore carrello dell' utente che ha fatto ordine piu' costoso #\n",
    "#########################################################################################################\n",
    "\n",
    "sql = \"select u.uid,u.nome, op.prezzo from utente as u, ordine as o, orpr01 as op where u.uid = o.uid and o.oid = op.oid order by op.prezzo desc\"\n",
    "sql = pd.read_sql(sql,db_connection)\n",
    "#print(sql)\n",
    "\n",
    "ordine = pd.DataFrame(pd.read_sql('ordine',db_connection))\n",
    "orpr01 = pd.DataFrame(pd.read_sql('orpr01',db_connection))\n",
    "utente = pd.DataFrame(pd.read_sql('utente',db_connection))\n",
    "\n",
    "#faccio merge tra la prima e la seconda tabella\n",
    "df = pd.merge(utente,ordine, on = 'uid')\n",
    "#faccio merge tra il primo merge e la terza tabella\n",
    "df = pd.merge(df,orpr01, on = 'oid')\n",
    "#ordino per valore carrello (prezzo)\n",
    "df = df[['prezzo','nome']]\n",
    "df_result = df.sort_values(by=['prezzo'], ascending=False)\n",
    "print(df_result)\n",
    "\n"
   ]
  },
  {
   "cell_type": "code",
   "execution_count": 22,
   "id": "8d73091e",
   "metadata": {},
   "outputs": [
    {
     "name": "stdout",
     "output_type": "stream",
     "text": [
      "               oid\n",
      "nome              \n",
      "Daniele         13\n",
      "John            12\n",
      "Angeni           9\n",
      "Silvia           6\n",
      "Stefano          6\n",
      "Alessandro       4\n",
      "Edmondo          4\n",
      "Azzurra          3\n",
      "Federi-ca        3\n",
      "Fran-co          1\n",
      "Giandomeni-co    1\n"
     ]
    }
   ],
   "source": [
    "#########################################################################################################\n",
    "#QUERY NUMERO 7 sql utente che ha fatto il maggior numero di ordini\n",
    "#########################################################################################################\n",
    "\n",
    "sql = \"select u.nome, count(op.oid) from utente as u, ordine as o, orpr01 as op where u.uid = o.uid and o.oid = op.oid and u.newsletter = 1 group by u.nome\"\n",
    "sql = pd.read_sql(sql,db_connection)\n",
    "#print(sql)\n",
    "\n",
    "ordine = pd.DataFrame(pd.read_sql('ordine',db_connection))\n",
    "orpr01 = pd.DataFrame(pd.read_sql('orpr01',db_connection))\n",
    "utente = pd.DataFrame(pd.read_sql('utente',db_connection))\n",
    "\n",
    "\n",
    "#faccio merge tra la prima e la seconda tabella\n",
    "df = pd.merge(utente,ordine, on = 'uid')\n",
    "#faccio merge tra il primo merge e la terza tabella\n",
    "df = pd.merge(df,orpr01, on = 'oid')\n",
    "#df_grouped = df.groupby([('nome')]).sum()\n",
    "\n",
    "\n",
    "df= df[['nome','oid']]\n",
    "df_grouped = df.groupby([('nome')]).count()\n",
    "df_grouped_sorded = df_grouped.sort_values(by=['oid'], ascending=False)\n",
    "\n",
    "\n",
    "print(df_grouped_sorded)"
   ]
  },
  {
   "cell_type": "code",
   "execution_count": 23,
   "id": "37e79209",
   "metadata": {},
   "outputs": [
    {
     "name": "stdout",
     "output_type": "stream",
     "text": [
      "                           spid\n",
      "nome                           \n",
      "Consegna con corriere GLS    14\n",
      "Spedizione in posta          11\n"
     ]
    }
   ],
   "source": [
    "#########################################################################################################\n",
    "#QUERY NUMERO 8 metodo di spedizione preferita\n",
    "#########################################################################################################\n",
    "\n",
    "sql = \"select * from spedizione\"\n",
    "sql = pd.read_sql(sql,db_connection)\n",
    "ordine = pd.DataFrame(pd.read_sql('ordine',db_connection))\n",
    "pasp01 = pd.DataFrame(pd.read_sql('pasp01',db_connection))\n",
    "spedizione = pd.DataFrame(pd.read_sql('spedizione',db_connection))\n",
    "\n",
    "#print(sql)\n",
    "\n",
    "#faccio merge tra la prima e la seconda tabella\n",
    "df = pd.merge(ordine,pasp01, on = 'paspid')\n",
    "#faccio merge tra il primo merge e la terza tabella\n",
    "df = pd.merge(df,spedizione, on = 'spid')\n",
    "\n",
    "\n",
    "df= df[['nome','spid']]\n",
    "df_grouped = df.groupby([('nome')]).count()\n",
    "df_grouped_sorded = df_grouped.sort_values(by=['spid'], ascending=False)\n",
    "\n",
    "print(df_grouped_sorded)"
   ]
  },
  {
   "cell_type": "code",
   "execution_count": 24,
   "id": "271a81fe",
   "metadata": {},
   "outputs": [
    {
     "name": "stdout",
     "output_type": "stream",
     "text": [
      "                                paid\n",
      "nome                                \n",
      "Contrassegno                      15\n",
      "Pagamento con Carta di Credito    10\n"
     ]
    }
   ],
   "source": [
    "#########################################################################################################\n",
    "#QUERY NUMERO 9 metodo di pagamento preferito \n",
    "#########################################################################################################\n",
    "\n",
    "sql = \"select * from pagamento\"\n",
    "sql = pd.read_sql(sql,db_connection)\n",
    "#print(sql)\n",
    "ordine = pd.DataFrame(pd.read_sql('ordine',db_connection))\n",
    "pasp01 = pd.DataFrame(pd.read_sql('pasp01',db_connection))\n",
    "pagamento = pd.DataFrame(pd.read_sql('pagamento',db_connection))\n",
    "\n",
    "#faccio merge tra la prima e la seconda tabella\n",
    "df = pd.merge(ordine,pasp01, on = 'paspid')\n",
    "#faccio merge tra il primo merge e la terza tabella\n",
    "df = pd.merge(df,pagamento, on = 'paid')\n",
    "\n",
    "\n",
    "df= df[['nome','paid']]\n",
    "df_grouped = df.groupby([('nome')]).count()\n",
    "df_grouped_sorded = df_grouped.sort_values(by=['paid'], ascending=False)\n",
    "\n",
    "print(df_grouped_sorded)"
   ]
  },
  {
   "cell_type": "code",
   "execution_count": 25,
   "id": "91236679",
   "metadata": {},
   "outputs": [
    {
     "name": "stdout",
     "output_type": "stream",
     "text": [
      "             lsid\n",
      "nome             \n",
      "standard       46\n",
      "rivenditori    16\n"
     ]
    }
   ],
   "source": [
    "#########################################################################################################\n",
    "#QUERY NUMERO 10 numero ordini da rivenditori e da non rivenditori\n",
    "#########################################################################################################\n",
    "\n",
    "\n",
    "#utente = pd.DataFrame(pd.read_sql('utente',db_connection))\n",
    "ordine = pd.DataFrame(pd.read_sql('ordine',db_connection))\n",
    "orpr01 = pd.DataFrame(pd.read_sql('orpr01',db_connection))\n",
    "listino = pd.DataFrame(pd.read_sql('listino',db_connection))\n",
    "\n",
    "\n",
    "#faccio merge tra la prima e la seconda tabella\n",
    "#df = pd.merge(utente,ordine, on = 'uid')\n",
    "#faccio merge tra il primo merge e la terza tabella\n",
    "df = pd.merge(ordine,orpr01, on = 'oid')\n",
    "#faccio merge tra il primo merge e la terza tabella\n",
    "df = pd.merge(df,listino, on = 'lsid')\n",
    "\n",
    "df= df[['nome','lsid']]\n",
    "df_grouped = df.groupby([('nome')]).count()\n",
    "df_grouped_sorded = df_grouped.sort_values(by=['nome'], ascending=False)\n",
    "\n",
    "print(df_grouped_sorded)\n",
    "\n",
    "\n"
   ]
  },
  {
   "cell_type": "code",
   "execution_count": null,
   "id": "c5d2e0e1",
   "metadata": {},
   "outputs": [],
   "source": []
  }
 ],
 "metadata": {
  "kernelspec": {
   "display_name": "Python 3 (ipykernel)",
   "language": "python",
   "name": "python3"
  },
  "language_info": {
   "codemirror_mode": {
    "name": "ipython",
    "version": 3
   },
   "file_extension": ".py",
   "mimetype": "text/x-python",
   "name": "python",
   "nbconvert_exporter": "python",
   "pygments_lexer": "ipython3",
   "version": "3.9.12"
  }
 },
 "nbformat": 4,
 "nbformat_minor": 5
}
