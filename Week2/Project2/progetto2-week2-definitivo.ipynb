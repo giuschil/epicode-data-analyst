{
 "cells": [
  {
   "cell_type": "markdown",
   "id": "0d28c465",
   "metadata": {},
   "source": [
    "# Carico Dataset"
   ]
  },
  {
   "cell_type": "code",
   "execution_count": 27,
   "id": "82e1fbda",
   "metadata": {},
   "outputs": [],
   "source": [
    "#import dataset \n",
    "from typing import List, Any\n",
    "import csv\n",
    "\n",
    "file_path_csv = '/Users/giuseppe/Desktop/Corsi/Epicode-DataAnalisys/epicode-data-analyst/Week2/project2/dataset/owid-covid-data.csv'\n",
    "\n",
    "with open(file_path_csv, 'r') as read_obj:\n",
    "    # Return a reader object which will\n",
    "    # iterate over lines in the given csvfile\n",
    "    csv_reader = csv.reader(read_obj)\n",
    "\n",
    "    # convert string to list\n",
    "    list_of_csv = list(csv_reader)\n",
    "    data_csv_list: List[Any] = list_of_csv"
   ]
  },
  {
   "cell_type": "code",
   "execution_count": 29,
   "id": "f751012e",
   "metadata": {},
   "outputs": [],
   "source": [
    "## creo dataset italia "
   ]
  },
  {
   "cell_type": "code",
   "execution_count": 28,
   "id": "6fa68507",
   "metadata": {},
   "outputs": [],
   "source": [
    "\"\"\" Vecchia versione senza creare una funzione modo vecchio successivamente ho creato una funzione che mi estrapola \n",
    "per ogni paese \"\"\"\n",
    "\n",
    "data_ita =[] #dati intaliani voglio aggiungere i dati sui nuovi casi\n",
    "\n",
    "for row in data_csv_list:\n",
    "    if row[2] == 'Italy': #prendi solo le righe con location = 'italia'\n",
    "        new_cases_string = row[8] #prendi solo i nuovi casi\n",
    "        new_cases = new_cases_string[:-2] #ai valori togli '.0'\n",
    "        data_ita.append(new_cases) #aggiungi alla lista\n",
    "\n",
    "for i in range(len(data_ita)):\n",
    "    if data_ita[i] == '': #se c'è spazio vuoto \n",
    "        data_ita[i] = 0 #cambia lo spazio con zero\n",
    "    elif isinstance(data_ita[i], str): #se invece è una stringa\n",
    "        data_ita[i] = int(data_ita[i]) #converti in intero\n",
    "        \n"
   ]
  },
  {
   "cell_type": "markdown",
   "id": "a2dc780f",
   "metadata": {},
   "source": [
    "# Data Cleaning"
   ]
  },
  {
   "cell_type": "code",
   "execution_count": 5,
   "id": "6aec1928",
   "metadata": {},
   "outputs": [],
   "source": [
    "#funzione per prendere tutti i nuovi casi di un paese passando il dataset e il nome del paese\n",
    "\n",
    "def data_cases_country (data,country_name):\n",
    "    \"\"\"\n",
    "    data: data_set import list\n",
    "    country_name : string name country\n",
    "    \"\"\"\n",
    "    country_name =str(country_name) #string county\n",
    "    data_cases_country = [] #dati intaliani voglio aggiungere i dati sui nuovi casi\n",
    "    for row in data:\n",
    "        if row[2] == country_name: #prendi solo le righe con location = 'italia'\n",
    "            new_cases_string = row[5] #prendi solo i nuovi casi\n",
    "            new_cases = new_cases_string[:-2] #ai valori togli '.0'\n",
    "            data_cases_country.append(new_cases) #aggiungi alla lista\n",
    "\n",
    "    for i in range(len(data_cases_country)):\n",
    "        if data_cases_country[i] == '': #se c'è spazio vuoto \n",
    "            data_cases_country[i] = 0 #cambia lo spazio con zero\n",
    "        elif isinstance(data_cases_country[i], str): #se invece è una stringa\n",
    "            data_cases_country[i] = int(data_cases_country[i]) #converti in intero\n",
    "    return data_cases_country\n",
    "        \n"
   ]
  },
  {
   "cell_type": "code",
   "execution_count": 6,
   "id": "291c09e9",
   "metadata": {},
   "outputs": [],
   "source": [
    "#funzione per prendere tutti i nuovi morti di un paese passando il dataset e il nome del paese\n",
    "\n",
    "def data_deths_country (data,country_name):\n",
    "    \"\"\"\n",
    "    data: data_set import list\n",
    "    country_name : string name country\n",
    "    \"\"\"\n",
    "    country_name =str(country_name) #string county\n",
    "    data_deths_country = [] #dati intaliani voglio aggiungere i dati sui nuovi morti\n",
    "    for row in data:\n",
    "        if row[2] == country_name: #prendi solo le righe con location = 'italia'\n",
    "            new_cases_string = row[8] #prendi solo i nuovi morti\n",
    "            new_cases = new_cases_string[:-2] #ai valori togli '.0'\n",
    "            data_deths_country.append(new_cases) #aggiungi alla lista\n",
    "\n",
    "    for i in range(len(data_deths_country)):\n",
    "        if data_deths_country[i] == '': #se c'è spazio vuoto \n",
    "            data_deths_country[i] = 0 #cambia lo spazio con zero\n",
    "        elif isinstance(data_deths_country[i], str): #se invece è una stringa\n",
    "            data_deths_country[i] = int(data_deths_country[i]) #converti in intero\n",
    "    return data_deths_country\n",
    "        "
   ]
  },
  {
   "cell_type": "code",
   "execution_count": 7,
   "id": "22482624",
   "metadata": {},
   "outputs": [],
   "source": [
    "#funzione per prendere tutti i nuovi vaccinati di un paese passando il dataset e il nome del paese\n",
    "\n",
    "def data_vaccinations_country (data,country_name):\n",
    "    \"\"\"\n",
    "    data: data_set import list\n",
    "    country_name : string name country\n",
    "    \"\"\"\n",
    "    country_name =str(country_name) #string county\n",
    "    data_vaccinations_country = [] #dati intaliani voglio aggiungere i dati sui nuovi vaccinati\n",
    "    for row in data:\n",
    "        if row[2] == country_name: #prendi solo le righe con location = 'italia'\n",
    "            new_cases_string = row[38] #prendi solo i nuovi vaccinati\n",
    "            new_cases = new_cases_string[:-2] #ai valori togli '.0'\n",
    "            data_vaccinations_country.append(new_cases) #aggiungi alla lista\n",
    "\n",
    "    for i in range(len(data_vaccinations_country)):\n",
    "        if data_vaccinations_country[i] == '': #se c'è spazio vuoto \n",
    "            data_vaccinations_country[i] = 0 #cambia lo spazio con zero\n",
    "        elif isinstance(data_vaccinations_country[i], str): #se invece è una stringa\n",
    "            data_vaccinations_country[i] = int(data_vaccinations_country[i]) #converti in intero\n",
    "    return data_vaccinations_country\n",
    "        "
   ]
  },
  {
   "cell_type": "markdown",
   "id": "2c99c9cb",
   "metadata": {},
   "source": [
    "# Statistics Functions"
   ]
  },
  {
   "cell_type": "code",
   "execution_count": 23,
   "id": "78d374ce",
   "metadata": {},
   "outputs": [],
   "source": [
    "\"\"\"\n",
    "Statistics functions created\n",
    "\"\"\"\n",
    "def avg_list(data):\n",
    "    sum_list = 0\n",
    "    len_list = len(data)\n",
    "    for i in range(0,len(data)):\n",
    "        sum_list = sum_list + int(data[i])\n",
    "    return float(sum_list/len_list)\n",
    "\n",
    "def max_lista(data):\n",
    "    max_num = data[0]\n",
    "    for num in data:\n",
    "        if num > max_num:\n",
    "            max_num = num\n",
    "    return max_num\n",
    "\n",
    "def min_lista(data):\n",
    "    min_num = data[0]\n",
    "    for num in data:\n",
    "        if num < min_num:\n",
    "            min_num = num\n",
    "    return min_num\n",
    "\n",
    "def max_min_median_avg_lista(data):\n",
    "    \"\"\"\n",
    "    data = input list\n",
    "    return = max and min in a tuple\n",
    "    \"\"\"\n",
    "    #max = primo elemento della lista\n",
    "    max_num = data[0]\n",
    "    #per ogni elemento confronta con il max\n",
    "    for num in data:\n",
    "        if num > max_num:\n",
    "            max_num = num\n",
    "    #min zero\n",
    "    min_num = data[0]\n",
    "    #per ogni elemento confronta con il min\n",
    "    for num in data:\n",
    "        if num < min_num:\n",
    "            min_num = num\n",
    "    \n",
    "    #data = lista in input\n",
    "    #1 fai un sort\n",
    "    #2 conta la lunghezza della lista\n",
    "    #3 se il numero è pari len(n)%2 == 0 allora la posizione è mediana è (n+1)/2 \n",
    "    sorted_data = sorted(data)\n",
    "    data_len = len(sorted_data)\n",
    "    middle = (data_len - 1) // 2\n",
    "    if middle % 2:\n",
    "        median= sorted_data[middle]\n",
    "    else:\n",
    "        median = (sorted_data[middle] + sorted_data[middle + 1]) / 2.0\n",
    "    mean= avg_list(data)\n",
    "    \n",
    "    return max_num,min_num,median,mean\n",
    "\n",
    "\n",
    "\n",
    "def median_lista(data):\n",
    "    #data = lista in input\n",
    "    #1 fai un sort\n",
    "    #2 conta la lunghezza della lista\n",
    "    #3 se il numero è pari len(n)%2 == 0 allora la posizione è mediana è (n+1)/2\n",
    "    sorted_data = sorted(data)\n",
    "    data_len = len(sorted_data)\n",
    "    middle = (data_len - 1) // 2\n",
    "    if middle % 2:\n",
    "        return sorted_data[middle]\n",
    "    else:\n",
    "        return (sorted_data[middle] + sorted_data[middle + 1]) / 2.0\n",
    "\n",
    "    \n"
   ]
  },
  {
   "cell_type": "code",
   "execution_count": null,
   "id": "a957b508",
   "metadata": {},
   "outputs": [],
   "source": [
    "#funzione che mi crea tutte le statistiche chimando una sola volta passando il dataset precedentemente pulito\n",
    "\n",
    "def max_min_median_avg_lista(data):\n",
    "    \"\"\"\n",
    "    data = input list\n",
    "    return = max and min in a tuple\n",
    "    \"\"\"\n",
    "    #max = primo elemento della lista\n",
    "    max_num = data[0]\n",
    "    #per ogni elemento confronta con il max\n",
    "    for num in data:\n",
    "        if num > max_num:\n",
    "            max_num = num\n",
    "    #min zero\n",
    "    min_num = data[0]\n",
    "    #per ogni elemento confronta con il min\n",
    "    for num in data:\n",
    "        if num < min_num:\n",
    "            min_num = num\n",
    "    \n",
    "    #data = lista in input\n",
    "    #1 fai un sort\n",
    "    #2 conta la lunghezza della lista\n",
    "    #3 se il numero è pari len(n)%2 == 0 allora la posizione è mediana è (n+1)/2 \n",
    "    sorted_data = sorted(data)\n",
    "    data_len = len(sorted_data)\n",
    "    middle = (data_len - 1) // 2\n",
    "    if middle % 2:\n",
    "        median= sorted_data[middle]\n",
    "    else:\n",
    "        median = (sorted_data[middle] + sorted_data[middle + 1]) / 2.0\n",
    "    mean= avg_list(data)\n",
    "    \n",
    "    return max_num,min_num,median,mean"
   ]
  },
  {
   "cell_type": "code",
   "execution_count": 30,
   "id": "14abd548",
   "metadata": {},
   "outputs": [],
   "source": [
    "#funzione print pper stampare tutti le statistiche di base  passando come valori le statistiche con testo formattato\n",
    "\n",
    "def print_statistics_list(max_data,min_data,median_data,mean_data):\n",
    "    \"\"\" max list, min list, median list, mean list\n",
    "        return formatted statistics\n",
    "    \"\"\" \n",
    "    print(\"The Max is: %2d, The Min is: %2d, The Median is: %2d, The Mean is: %2d\" % (max_data,min_data,median_data,mean_data))\n",
    "\n"
   ]
  },
  {
   "cell_type": "markdown",
   "id": "1ce754a2",
   "metadata": {},
   "source": [
    "# Dati paese 1 = paese scelto UK"
   ]
  },
  {
   "cell_type": "code",
   "execution_count": 32,
   "id": "004905bf",
   "metadata": {},
   "outputs": [
    {
     "name": "stdout",
     "output_type": "stream",
     "text": [
      "Statistische in UK\n",
      "\n",
      "\n",
      "The Max is: 1062705, The Min is:  0, The Median is: 43762, The Mean is: 151602\n",
      "None\n",
      "\n",
      "\n"
     ]
    }
   ],
   "source": [
    "#dati inghilterra su vaccinazioni(lista), numero morti(lista), numero casi (lista)\n",
    "\n",
    "data_vaccinations_uk = data_vaccinations_country(data_csv_list,'United Kingdom')\n",
    "data_deths_uk = data_deths_country(data_csv_list,'United Kingdom')\n",
    "data_cases_uk = data_cases_country(data_csv_list,'United Kingdom')\n",
    "\n",
    "#dati inghilterra vaccinazioni_totali min,max,median value \n",
    "\n",
    "data_vaccinations_uk\n",
    "data_deths_uk\n",
    "data_cases_uk\n",
    "\n",
    "print(\"Statistische in UK\")\n",
    "print(\"\\n\")\n",
    "max_data_vaccinations_uk,min_data_vaccinations_uk, median_data_vaccinations_uk, mean_data_vaccinations_uk = max_min_median_avg_lista (data_vaccinations_uk)\n",
    "\n",
    "\n",
    "print(print_statistics_list(\n",
    "    max_data_vaccinations_uk,\n",
    "    min_data_vaccinations_uk,\n",
    "    median_data_vaccinations_uk,\n",
    "    mean_data_vaccinations_uk))\n",
    "\n",
    "print(\"\\n\")\n",
    "\n"
   ]
  },
  {
   "cell_type": "markdown",
   "id": "6cddfc74",
   "metadata": {},
   "source": [
    "# Dati paese 1 = paese scelto Italy"
   ]
  },
  {
   "cell_type": "code",
   "execution_count": 33,
   "id": "ecbbbb87",
   "metadata": {},
   "outputs": [
    {
     "name": "stdout",
     "output_type": "stream",
     "text": [
      "Statistische in Italy\n",
      "\n",
      "\n",
      "The Max is: 724653, The Min is:  0, The Median is: 36510, The Mean is: 143892\n",
      "None\n",
      "\n",
      "\n"
     ]
    }
   ],
   "source": [
    "#dati italia su vaccinazioni(lista), numero morti(lista), numero casi (lista)\n",
    "\n",
    "data_vaccinations_italy = data_vaccinations_country(data_csv_list,'Italy')\n",
    "data_deths_italy = data_deths_country(data_csv_list,'Italy')\n",
    "data_cases_ita = data_cases_country(data_csv_list,'Italy')\n",
    "\n",
    "#dati italia vaccinazioni_totali min,max,median value \n",
    "\n",
    "print(\"Statistische in Italy\")\n",
    "print(\"\\n\")\n",
    "\n",
    "#max_data_vaccinations_italy, min_data_vaccinations_italy, median_data_vaccinations_italy, mean_data_vaccinations_italy = max_min_median_avg_lista(data_vaccinations_italy)\n",
    "#max_data_deths_italy,min_data_deths_italy, median_data_deths_italy = max_min_median_avg_lista(data_deths_italy)\n",
    "#max_data_cases_italy,min_data_cases_italy, median_data_cases_italy = max_min_median_avg_lista(data_cases_ita)\n",
    "\n",
    "\n",
    "\n",
    "max_it,min_it,median_it,mean_it= max_min_median_avg_lista (data_vaccinations_italy)\n",
    "\n",
    "\n",
    "print(print_statistics_list(max_it,min_it,median_it,mean_it))\n",
    "print(\"\\n\")\n"
   ]
  },
  {
   "cell_type": "markdown",
   "id": "a47ad55e",
   "metadata": {},
   "source": [
    "# Creazione di alcuni grafici"
   ]
  },
  {
   "cell_type": "code",
   "execution_count": 26,
   "id": "0830e8ad",
   "metadata": {},
   "outputs": [
    {
     "data": {
      "image/png": "[encoded data removed]",
      "text/plain": [
       "<Figure size 432x288 with 1 Axes>"
      ]
     },
     "metadata": {
      "needs_background": "light"
     },
     "output_type": "display_data"
    },
    {
     "data": {
      "image/png": "[encoded data removed]",
      "text/plain": [
       "<Figure size 432x288 with 1 Axes>"
      ]
     },
     "metadata": {
      "needs_background": "light"
     },
     "output_type": "display_data"
    },
    {
     "data": {
      "image/png": "[encoded data removed]",
      "text/plain": [
       "<Figure size 432x288 with 1 Axes>"
      ]
     },
     "metadata": {
      "needs_background": "light"
     },
     "output_type": "display_data"
    },
    {
     "data": {
      "image/png": "[encoded data removed]",
      "text/plain": [
       "<Figure size 432x288 with 1 Axes>"
      ]
     },
     "metadata": {
      "needs_background": "light"
     },
     "output_type": "display_data"
    }
   ],
   "source": [
    "#grafici\n",
    "import matplotlib.pyplot as plt\n",
    "\n",
    "data_uk =[] #dati intaliani voglio aggiungere i dati sui nuovi casi\n",
    "\n",
    "for row in data_csv_list:\n",
    "    if row[2] == 'United Kingdom': #prendi solo le righe con location = 'italia'\n",
    "        new_cases_string = row[8] #prendi solo i nuovi casi\n",
    "        new_cases = new_cases_string[:-2] #ai valori togli '.0'\n",
    "        data_uk.append(new_cases) #aggiungi alla lista\n",
    "\n",
    "for i in range(len(data_uk)):\n",
    "    if data_uk[i] == '': #se c'è spazio vuoto \n",
    "        data_uk[i] = 0 #cambia lo spazio con zero\n",
    "    elif isinstance(data_uk[i], str): #se invece è una stringa\n",
    "        data_uk[i] = int(data_uk[i]) #converti in intero\n",
    "        \n",
    "#print(\"uk\",len(data_uk),\"ita\",len(data_ita))\n",
    "\n",
    "\n",
    "\n",
    "#regression\n",
    "\n",
    "import matplotlib.pyplot as plt\n",
    "\n",
    "x = data_uk[1:]\n",
    "y = data_ita\n",
    "plt.scatter(x, y)\n",
    "plt.show()\n",
    "\n",
    "\n",
    "n, bins, patches=plt.hist(data_ita)\n",
    "plt.xlabel(\"Values\")\n",
    "plt.ylabel(\"Frequency\")\n",
    "plt.title(\"Histogram\")\n",
    "plt.show()\n",
    "\n",
    "n, bins, patches=plt.hist(data_ita,bins=20)\n",
    "plt.xlabel(\"Values\")\n",
    "plt.ylabel(\"Frequency\")\n",
    "plt.title(\"Histogram\")\n",
    "plt.show()\n",
    "\n",
    "\n",
    "\n",
    "n, bins, patches=plt.hist(data_uk,bins=20,density=True,color='red')\n",
    "plt.xlabel(\"Values\")\n",
    "plt.ylabel(\"Frequency\")\n",
    "plt.title(\"Histogram\")\n",
    "plt.show()"
   ]
  },
  {
   "cell_type": "code",
   "execution_count": null,
   "id": "e9453e8b",
   "metadata": {},
   "outputs": [],
   "source": []
  },
  {
   "cell_type": "code",
   "execution_count": null,
   "id": "d6f4290f",
   "metadata": {},
   "outputs": [],
   "source": []
  },
  {
   "cell_type": "code",
   "execution_count": null,
   "id": "5c3a88e1",
   "metadata": {},
   "outputs": [],
   "source": []
  }
 ],
 "metadata": {
  "kernelspec": {
   "display_name": "Python 3 (ipykernel)",
   "language": "python",
   "name": "python3"
  },
  "language_info": {
   "codemirror_mode": {
    "name": "ipython",
    "version": 3
   },
   "file_extension": ".py",
   "mimetype": "text/x-python",
   "name": "python",
   "nbconvert_exporter": "python",
   "pygments_lexer": "ipython3",
   "version": "3.9.12"
  }
 },
 "nbformat": 4,
 "nbformat_minor": 5
}
